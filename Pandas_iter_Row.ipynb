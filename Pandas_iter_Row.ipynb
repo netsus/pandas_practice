{
 "cells": [
  {
   "cell_type": "markdown",
   "id": "7375cd8b",
   "metadata": {},
   "source": [
    "## 전체 코드"
   ]
  },
  {
   "cell_type": "code",
   "execution_count": null,
   "id": "b0963908",
   "metadata": {},
   "outputs": [],
   "source": [
    "import pandas as pd\n",
    "from pydataset import data\n",
    "titanic = data('titanic') # titanic 데이터셋 가져오기\n",
    "df = titanic.sample(5,random_state=90) #랜덤 5개만 가져오기\n",
    "\n",
    "## iterrows 행 반복\n",
    "for index, row in df.iterrows():\n",
    "    print(f\"{index=}, {row.age=}, {row['sex']=}\")\n",
    "\n",
    "## itertuples 행 반복\n",
    "for row in df.itertuples():\n",
    "    print(f\"{row.age=}, {row.sex=}\")\n",
    "\n",
    "## df.index 사용\n",
    "for idx in df.index:\n",
    "    print(f\"{df.loc[idx,'class']=},  {df['age'][idx]=} ({idx=})\")\n",
    "\n",
    "## iloc 사용\n",
    "for i in range(len(df)):\n",
    "    print(f\"df.iloc[{i},0] = {df.iloc[i,0]}\")"
   ]
  },
  {
   "cell_type": "markdown",
   "id": "78015c0b",
   "metadata": {},
   "source": [
    "## 테스트 데이터셋 만들기"
   ]
  },
  {
   "cell_type": "code",
   "execution_count": 172,
   "id": "621fccec",
   "metadata": {
    "ExecuteTime": {
     "end_time": "2022-07-12T14:55:20.107630Z",
     "start_time": "2022-07-12T14:55:20.085691Z"
    }
   },
   "outputs": [
    {
     "data": {
      "text/html": [
       "<div>\n",
       "<style scoped>\n",
       "    .dataframe tbody tr th:only-of-type {\n",
       "        vertical-align: middle;\n",
       "    }\n",
       "\n",
       "    .dataframe tbody tr th {\n",
       "        vertical-align: top;\n",
       "    }\n",
       "\n",
       "    .dataframe thead th {\n",
       "        text-align: right;\n",
       "    }\n",
       "</style>\n",
       "<table border=\"1\" class=\"dataframe\">\n",
       "  <thead>\n",
       "    <tr style=\"text-align: right;\">\n",
       "      <th></th>\n",
       "      <th>class</th>\n",
       "      <th>age</th>\n",
       "      <th>sex</th>\n",
       "      <th>survived</th>\n",
       "    </tr>\n",
       "  </thead>\n",
       "  <tbody>\n",
       "    <tr>\n",
       "      <th>315</th>\n",
       "      <td>1st class</td>\n",
       "      <td>adults</td>\n",
       "      <td>women</td>\n",
       "      <td>yes</td>\n",
       "    </tr>\n",
       "    <tr>\n",
       "      <th>1304</th>\n",
       "      <td>3rd class</td>\n",
       "      <td>child</td>\n",
       "      <td>women</td>\n",
       "      <td>no</td>\n",
       "    </tr>\n",
       "    <tr>\n",
       "      <th>318</th>\n",
       "      <td>1st class</td>\n",
       "      <td>adults</td>\n",
       "      <td>women</td>\n",
       "      <td>no</td>\n",
       "    </tr>\n",
       "    <tr>\n",
       "      <th>342</th>\n",
       "      <td>2nd class</td>\n",
       "      <td>adults</td>\n",
       "      <td>man</td>\n",
       "      <td>no</td>\n",
       "    </tr>\n",
       "    <tr>\n",
       "      <th>1260</th>\n",
       "      <td>3rd class</td>\n",
       "      <td>child</td>\n",
       "      <td>man</td>\n",
       "      <td>no</td>\n",
       "    </tr>\n",
       "  </tbody>\n",
       "</table>\n",
       "</div>"
      ],
      "text/plain": [
       "          class     age    sex survived\n",
       "315   1st class  adults  women      yes\n",
       "1304  3rd class   child  women       no\n",
       "318   1st class  adults  women       no\n",
       "342   2nd class  adults    man       no\n",
       "1260  3rd class   child    man       no"
      ]
     },
     "execution_count": 172,
     "metadata": {},
     "output_type": "execute_result"
    }
   ],
   "source": [
    "import pandas as pd\n",
    "from pydataset import data\n",
    "titanic = data('titanic')\n",
    "df = titanic.sample(5,random_state=90)\n",
    "df"
   ]
  },
  {
   "cell_type": "markdown",
   "id": "887e07a7",
   "metadata": {},
   "source": [
    "## iterrows 행 반복"
   ]
  },
  {
   "cell_type": "code",
   "execution_count": 126,
   "id": "2a1e8453",
   "metadata": {
    "ExecuteTime": {
     "end_time": "2022-07-12T14:36:20.729901Z",
     "start_time": "2022-07-12T14:36:20.717506Z"
    }
   },
   "outputs": [
    {
     "name": "stdout",
     "output_type": "stream",
     "text": [
      "index=315, row.age='adults', row['sex']='women'\n",
      "index=1304, row.age='child', row['sex']='women'\n",
      "index=318, row.age='adults', row['sex']='women'\n",
      "index=342, row.age='adults', row['sex']='man'\n",
      "index=1260, row.age='child', row['sex']='man'\n"
     ]
    }
   ],
   "source": [
    "for index, row in df.iterrows():\n",
    "    print(f\"{index=}, {row.age=}, {row['sex']=}\")"
   ]
  },
  {
   "cell_type": "markdown",
   "id": "286d1111",
   "metadata": {},
   "source": [
    "## itertuples 행 반복"
   ]
  },
  {
   "cell_type": "code",
   "execution_count": 181,
   "id": "4fa483e0",
   "metadata": {
    "ExecuteTime": {
     "end_time": "2022-07-12T15:11:02.947146Z",
     "start_time": "2022-07-12T15:11:02.935915Z"
    }
   },
   "outputs": [
    {
     "name": "stdout",
     "output_type": "stream",
     "text": [
      "row.age='adults', row.sex='women'\n",
      "row.age='child', row.sex='women'\n",
      "row.age='adults', row.sex='women'\n",
      "row.age='adults', row.sex='man'\n",
      "row.age='child', row.sex='man'\n"
     ]
    }
   ],
   "source": [
    "for row in df.itertuples():\n",
    "    print(f\"{row.age=}, {row.sex=}\")"
   ]
  },
  {
   "cell_type": "code",
   "execution_count": 182,
   "id": "1803016e",
   "metadata": {
    "ExecuteTime": {
     "end_time": "2022-07-12T15:11:07.431044Z",
     "start_time": "2022-07-12T15:11:07.419078Z"
    }
   },
   "outputs": [
    {
     "data": {
      "text/plain": [
       "pandas.core.frame.Pandas"
      ]
     },
     "execution_count": 182,
     "metadata": {},
     "output_type": "execute_result"
    }
   ],
   "source": [
    "type(row)"
   ]
  },
  {
   "cell_type": "markdown",
   "id": "b981f7de",
   "metadata": {
    "ExecuteTime": {
     "end_time": "2022-07-12T14:31:47.581296Z",
     "start_time": "2022-07-12T14:31:47.566312Z"
    }
   },
   "source": [
    "## df.index 사용"
   ]
  },
  {
   "cell_type": "code",
   "execution_count": 142,
   "id": "237cd5e5",
   "metadata": {
    "ExecuteTime": {
     "end_time": "2022-07-12T14:38:05.466198Z",
     "start_time": "2022-07-12T14:38:05.458335Z"
    }
   },
   "outputs": [
    {
     "name": "stdout",
     "output_type": "stream",
     "text": [
      "df.loc[idx,'class']='1st class',  df['age'][idx]='adults' (idx=315)\n",
      "df.loc[idx,'class']='3rd class',  df['age'][idx]='child' (idx=1304)\n",
      "df.loc[idx,'class']='1st class',  df['age'][idx]='adults' (idx=318)\n",
      "df.loc[idx,'class']='2nd class',  df['age'][idx]='adults' (idx=342)\n",
      "df.loc[idx,'class']='3rd class',  df['age'][idx]='child' (idx=1260)\n"
     ]
    }
   ],
   "source": [
    "for idx in df.index:\n",
    "    print(f\"{df.loc[idx,'class']=},  {df['age'][idx]=} ({idx=})\")"
   ]
  },
  {
   "cell_type": "markdown",
   "id": "e08badc2",
   "metadata": {},
   "source": [
    "## iloc 사용"
   ]
  },
  {
   "cell_type": "code",
   "execution_count": 157,
   "id": "ca3aec1d",
   "metadata": {
    "ExecuteTime": {
     "end_time": "2022-07-12T14:40:46.689016Z",
     "start_time": "2022-07-12T14:40:46.681352Z"
    }
   },
   "outputs": [
    {
     "name": "stdout",
     "output_type": "stream",
     "text": [
      "df.iloc[0,0] = 1st class\n",
      "df.iloc[1,0] = 3rd class\n",
      "df.iloc[2,0] = 1st class\n",
      "df.iloc[3,0] = 2nd class\n",
      "df.iloc[4,0] = 3rd class\n"
     ]
    }
   ],
   "source": [
    "for i in range(len(df)):\n",
    "    print(f\"df.iloc[{i},0] = {df.iloc[i,0]}\")"
   ]
  },
  {
   "cell_type": "markdown",
   "id": "4b21cb3a",
   "metadata": {
    "ExecuteTime": {
     "end_time": "2022-07-12T14:24:36.511839Z",
     "start_time": "2022-07-12T14:24:36.506526Z"
    }
   },
   "source": [
    "## 시간 비교"
   ]
  },
  {
   "cell_type": "code",
   "execution_count": 90,
   "id": "1bf8be4a",
   "metadata": {
    "ExecuteTime": {
     "end_time": "2022-07-12T14:19:33.570518Z",
     "start_time": "2022-07-12T14:19:33.563804Z"
    }
   },
   "outputs": [
    {
     "name": "stdout",
     "output_type": "stream",
     "text": [
      "1316\n"
     ]
    }
   ],
   "source": [
    "print(len(titanic))"
   ]
  },
  {
   "cell_type": "code",
   "execution_count": 185,
   "id": "728d6188",
   "metadata": {
    "ExecuteTime": {
     "end_time": "2022-07-12T15:20:57.588609Z",
     "start_time": "2022-07-12T15:20:42.796358Z"
    }
   },
   "outputs": [
    {
     "name": "stdout",
     "output_type": "stream",
     "text": [
      "18.2 ms ± 36 µs per loop (mean ± std. dev. of 7 runs, 100 loops each)\n"
     ]
    }
   ],
   "source": [
    "%%timeit\n",
    "for i,r in titanic.iterrows():\n",
    "    test = r.age\n",
    "    pass"
   ]
  },
  {
   "cell_type": "code",
   "execution_count": 186,
   "id": "30030172",
   "metadata": {
    "ExecuteTime": {
     "end_time": "2022-07-12T15:21:02.021748Z",
     "start_time": "2022-07-12T15:20:57.589627Z"
    }
   },
   "outputs": [
    {
     "name": "stdout",
     "output_type": "stream",
     "text": [
      "541 µs ± 3.99 µs per loop (mean ± std. dev. of 7 runs, 1000 loops each)\n"
     ]
    }
   ],
   "source": [
    "%%timeit\n",
    "for r in titanic.itertuples():\n",
    "    test = r.age\n",
    "    pass"
   ]
  },
  {
   "cell_type": "code",
   "execution_count": 187,
   "id": "b4cc8a24",
   "metadata": {
    "ExecuteTime": {
     "end_time": "2022-07-12T15:21:06.186911Z",
     "start_time": "2022-07-12T15:21:02.022992Z"
    }
   },
   "outputs": [
    {
     "name": "stdout",
     "output_type": "stream",
     "text": [
      "5.11 ms ± 25.2 µs per loop (mean ± std. dev. of 7 runs, 100 loops each)\n"
     ]
    }
   ],
   "source": [
    "%%timeit\n",
    "for idx in titanic.index:\n",
    "    test = titanic.loc[idx,'age']\n",
    "    pass"
   ]
  },
  {
   "cell_type": "code",
   "execution_count": 188,
   "id": "1e92855e",
   "metadata": {
    "ExecuteTime": {
     "end_time": "2022-07-12T15:21:14.667414Z",
     "start_time": "2022-07-12T15:21:06.187836Z"
    }
   },
   "outputs": [
    {
     "name": "stdout",
     "output_type": "stream",
     "text": [
      "10.4 ms ± 128 µs per loop (mean ± std. dev. of 7 runs, 100 loops each)\n"
     ]
    }
   ],
   "source": [
    "%%timeit\n",
    "for i in range(len(titanic)):\n",
    "    test = titanic.iloc[i,1]\n",
    "    pass"
   ]
  }
 ],
 "metadata": {
  "kernelspec": {
   "display_name": "Python 3",
   "language": "python",
   "name": "python3"
  },
  "language_info": {
   "codemirror_mode": {
    "name": "ipython",
    "version": 3
   },
   "file_extension": ".py",
   "mimetype": "text/x-python",
   "name": "python",
   "nbconvert_exporter": "python",
   "pygments_lexer": "ipython3",
   "version": "3.8.12"
  },
  "toc": {
   "base_numbering": 1,
   "nav_menu": {},
   "number_sections": true,
   "sideBar": true,
   "skip_h1_title": false,
   "title_cell": "Table of Contents",
   "title_sidebar": "Contents",
   "toc_cell": false,
   "toc_position": {},
   "toc_section_display": true,
   "toc_window_display": false
  }
 },
 "nbformat": 4,
 "nbformat_minor": 5
}
