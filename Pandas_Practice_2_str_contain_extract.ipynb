{
 "cells": [
  {
   "cell_type": "code",
   "execution_count": 4,
   "metadata": {
    "ExecuteTime": {
     "end_time": "2020-08-06T10:53:23.904596Z",
     "start_time": "2020-08-06T10:53:23.894888Z"
    }
   },
   "outputs": [],
   "source": [
    "from pydataset import data\n",
    "import pandas as pd\n",
    "import numpy as np\n",
    "pd.set_option('display.max_columns', 500)\n",
    "pd.set_option('display.max_rows',15)\n",
    "pd.set_option('display.width', 1000)\n",
    "from datetime import datetime\n",
    "Date = datetime.now().strftime(\"%y%m%d\")\n",
    "import warnings\n",
    "warnings.filterwarnings(action='ignore')\n",
    "import matplotlib.pyplot as plt"
   ]
  },
  {
   "cell_type": "code",
   "execution_count": 40,
   "metadata": {
    "ExecuteTime": {
     "end_time": "2020-08-06T11:21:41.004682Z",
     "start_time": "2020-08-06T11:21:40.988287Z"
    }
   },
   "outputs": [
    {
     "name": "stdout",
     "output_type": "stream",
     "text": [
      "esoph\n",
      "\n",
      "PyDataset Documentation (adopted from R Documentation. The displayed examples are in R)\n",
      "\n",
      "## Smoking, Alcohol and (O)esophageal Cancer\n",
      "\n",
      "### Description\n",
      "\n",
      "Data from a case-control study of (o)esophageal cancer in Ille-et-Vilaine,\n",
      "France.\n",
      "\n",
      "### Usage\n",
      "\n",
      "    esoph\n",
      "\n",
      "### Format\n",
      "\n",
      "A data frame with records for 88 age/alcohol/tobacco combinations.\n",
      "\n",
      "[,1]\n",
      "\n",
      "\"agegp\"\n",
      "\n",
      "Age group\n",
      "\n",
      "1 25--34 years\n",
      "\n",
      "2 35--44\n",
      "\n",
      "3 45--54\n",
      "\n",
      "4 55--64\n",
      "\n",
      "5 65--74\n",
      "\n",
      "6 75+\n",
      "\n",
      "[,2]\n",
      "\n",
      "\"alcgp\"\n",
      "\n",
      "Alcohol consumption\n",
      "\n",
      "1 0--39 gm/day\n",
      "\n",
      "2 40--79\n",
      "\n",
      "3 80--119\n",
      "\n",
      "4 120+\n",
      "\n",
      "[,3]\n",
      "\n",
      "\"tobgp\"\n",
      "\n",
      "Tobacco consumption\n",
      "\n",
      "1 0-- 9 gm/day\n",
      "\n",
      "2 10--19\n",
      "\n",
      "3 20--29\n",
      "\n",
      "4 30+\n",
      "\n",
      "[,4]\n",
      "\n",
      "\"ncases\"\n",
      "\n",
      "Number of cases\n",
      "\n",
      "[,5]\n",
      "\n",
      "\"ncontrols\"\n",
      "\n",
      "Number of controls\n",
      "\n",
      "### Author(s)\n",
      "\n",
      "Thomas Lumley\n",
      "\n",
      "### Source\n",
      "\n",
      "Breslow, N. E. and Day, N. E. (1980) _Statistical Methods in Cancer Research.\n",
      "Volume 1: The Analysis of Case-Control Studies._ IARC Lyon / Oxford University\n",
      "Press.\n",
      "\n",
      "### Examples\n",
      "\n",
      "    require(stats)\n",
      "    require(graphics) # for mosaicplot\n",
      "    summary(esoph)\n",
      "    ## effects of alcohol, tobacco and interaction, age-adjusted\n",
      "    model1 <- glm(cbind(ncases, ncontrols) ~ agegp + tobgp * alcgp,\n",
      "                  data = esoph, family = binomial())\n",
      "    anova(model1)\n",
      "    ## Try a linear effect of alcohol and tobacco\n",
      "    model2 <- glm(cbind(ncases, ncontrols) ~ agegp + unclass(tobgp)\n",
      "                                             + unclass(alcgp),\n",
      "                  data = esoph, family = binomial())\n",
      "    summary(model2)\n",
      "    ## Re-arrange data for a mosaic plot\n",
      "    ttt <- table(esoph$agegp, esoph$alcgp, esoph$tobgp)\n",
      "    o <- with(esoph, order(tobgp, alcgp, agegp))\n",
      "    ttt[ttt == 1] <- esoph$ncases[o]\n",
      "    tt1 <- table(esoph$agegp, esoph$alcgp, esoph$tobgp)\n",
      "    tt1[tt1 == 1] <- esoph$ncontrols[o]\n",
      "    tt <- array(c(ttt, tt1), c(dim(ttt),2),\n",
      "                c(dimnames(ttt), list(c(\"Cancer\", \"control\"))))\n",
      "    mosaicplot(tt, main = \"esoph data set\", color = TRUE)\n",
      "\n",
      "\n"
     ]
    }
   ],
   "source": [
    "data('esoph',show_doc=True)"
   ]
  },
  {
   "cell_type": "code",
   "execution_count": 41,
   "metadata": {
    "ExecuteTime": {
     "end_time": "2020-08-06T11:21:41.187900Z",
     "start_time": "2020-08-06T11:21:41.176220Z"
    }
   },
   "outputs": [],
   "source": [
    "df = data('esoph')"
   ]
  },
  {
   "cell_type": "code",
   "execution_count": 42,
   "metadata": {
    "ExecuteTime": {
     "end_time": "2020-08-06T11:21:41.371238Z",
     "start_time": "2020-08-06T11:21:41.355632Z"
    }
   },
   "outputs": [
    {
     "data": {
      "text/html": [
       "<div>\n",
       "<style scoped>\n",
       "    .dataframe tbody tr th:only-of-type {\n",
       "        vertical-align: middle;\n",
       "    }\n",
       "\n",
       "    .dataframe tbody tr th {\n",
       "        vertical-align: top;\n",
       "    }\n",
       "\n",
       "    .dataframe thead th {\n",
       "        text-align: right;\n",
       "    }\n",
       "</style>\n",
       "<table border=\"1\" class=\"dataframe\">\n",
       "  <thead>\n",
       "    <tr style=\"text-align: right;\">\n",
       "      <th></th>\n",
       "      <th>agegp</th>\n",
       "      <th>alcgp</th>\n",
       "      <th>tobgp</th>\n",
       "      <th>ncases</th>\n",
       "      <th>ncontrols</th>\n",
       "    </tr>\n",
       "  </thead>\n",
       "  <tbody>\n",
       "    <tr>\n",
       "      <th>1</th>\n",
       "      <td>25-34</td>\n",
       "      <td>0-39g/day</td>\n",
       "      <td>0-9g/day</td>\n",
       "      <td>0</td>\n",
       "      <td>40</td>\n",
       "    </tr>\n",
       "    <tr>\n",
       "      <th>2</th>\n",
       "      <td>25-34</td>\n",
       "      <td>0-39g/day</td>\n",
       "      <td>10-19</td>\n",
       "      <td>0</td>\n",
       "      <td>10</td>\n",
       "    </tr>\n",
       "    <tr>\n",
       "      <th>3</th>\n",
       "      <td>25-34</td>\n",
       "      <td>0-39g/day</td>\n",
       "      <td>20-29</td>\n",
       "      <td>0</td>\n",
       "      <td>6</td>\n",
       "    </tr>\n",
       "  </tbody>\n",
       "</table>\n",
       "</div>"
      ],
      "text/plain": [
       "   agegp      alcgp     tobgp  ncases  ncontrols\n",
       "1  25-34  0-39g/day  0-9g/day       0         40\n",
       "2  25-34  0-39g/day     10-19       0         10\n",
       "3  25-34  0-39g/day     20-29       0          6"
      ]
     },
     "execution_count": 42,
     "metadata": {},
     "output_type": "execute_result"
    }
   ],
   "source": [
    "df.head(3)"
   ]
  },
  {
   "cell_type": "code",
   "execution_count": 43,
   "metadata": {
    "ExecuteTime": {
     "end_time": "2020-08-06T11:21:41.553943Z",
     "start_time": "2020-08-06T11:21:41.545441Z"
    }
   },
   "outputs": [
    {
     "data": {
      "text/plain": [
       "array(['0-39g/day', '40-79', '80-119', '120+'], dtype=object)"
      ]
     },
     "execution_count": 43,
     "metadata": {},
     "output_type": "execute_result"
    }
   ],
   "source": [
    "df.alcgp.unique()"
   ]
  },
  {
   "cell_type": "markdown",
   "metadata": {},
   "source": [
    "## 숫자 범위 정보(숫자-숫자 or 숫자+)만 추출하고 싶을 때"
   ]
  },
  {
   "cell_type": "code",
   "execution_count": 44,
   "metadata": {
    "ExecuteTime": {
     "end_time": "2020-08-06T11:21:42.148564Z",
     "start_time": "2020-08-06T11:21:42.138222Z"
    }
   },
   "outputs": [],
   "source": [
    "df['new'] = df.alcgp.str.extract(r'(\\d+-\\d\\d+|\\d\\d\\d\\+)')"
   ]
  },
  {
   "cell_type": "code",
   "execution_count": 45,
   "metadata": {
    "ExecuteTime": {
     "end_time": "2020-08-06T11:21:42.442508Z",
     "start_time": "2020-08-06T11:21:42.424973Z"
    }
   },
   "outputs": [
    {
     "data": {
      "text/html": [
       "<div>\n",
       "<style scoped>\n",
       "    .dataframe tbody tr th:only-of-type {\n",
       "        vertical-align: middle;\n",
       "    }\n",
       "\n",
       "    .dataframe tbody tr th {\n",
       "        vertical-align: top;\n",
       "    }\n",
       "\n",
       "    .dataframe thead th {\n",
       "        text-align: right;\n",
       "    }\n",
       "</style>\n",
       "<table border=\"1\" class=\"dataframe\">\n",
       "  <thead>\n",
       "    <tr style=\"text-align: right;\">\n",
       "      <th></th>\n",
       "      <th>agegp</th>\n",
       "      <th>alcgp</th>\n",
       "      <th>tobgp</th>\n",
       "      <th>ncases</th>\n",
       "      <th>ncontrols</th>\n",
       "      <th>new</th>\n",
       "    </tr>\n",
       "  </thead>\n",
       "  <tbody>\n",
       "    <tr>\n",
       "      <th>1</th>\n",
       "      <td>25-34</td>\n",
       "      <td>0-39g/day</td>\n",
       "      <td>0-9g/day</td>\n",
       "      <td>0</td>\n",
       "      <td>40</td>\n",
       "      <td>0-39</td>\n",
       "    </tr>\n",
       "    <tr>\n",
       "      <th>2</th>\n",
       "      <td>25-34</td>\n",
       "      <td>0-39g/day</td>\n",
       "      <td>10-19</td>\n",
       "      <td>0</td>\n",
       "      <td>10</td>\n",
       "      <td>0-39</td>\n",
       "    </tr>\n",
       "    <tr>\n",
       "      <th>3</th>\n",
       "      <td>25-34</td>\n",
       "      <td>0-39g/day</td>\n",
       "      <td>20-29</td>\n",
       "      <td>0</td>\n",
       "      <td>6</td>\n",
       "      <td>0-39</td>\n",
       "    </tr>\n",
       "  </tbody>\n",
       "</table>\n",
       "</div>"
      ],
      "text/plain": [
       "   agegp      alcgp     tobgp  ncases  ncontrols   new\n",
       "1  25-34  0-39g/day  0-9g/day       0         40  0-39\n",
       "2  25-34  0-39g/day     10-19       0         10  0-39\n",
       "3  25-34  0-39g/day     20-29       0          6  0-39"
      ]
     },
     "execution_count": 45,
     "metadata": {},
     "output_type": "execute_result"
    }
   ],
   "source": [
    "df.head(3)"
   ]
  },
  {
   "cell_type": "code",
   "execution_count": 46,
   "metadata": {
    "ExecuteTime": {
     "end_time": "2020-08-06T11:21:42.785277Z",
     "start_time": "2020-08-06T11:21:42.776820Z"
    }
   },
   "outputs": [
    {
     "data": {
      "text/plain": [
       "array(['0-39', '40-79', '80-119', '120+'], dtype=object)"
      ]
     },
     "execution_count": 46,
     "metadata": {},
     "output_type": "execute_result"
    }
   ],
   "source": [
    "df.new.unique()"
   ]
  },
  {
   "cell_type": "markdown",
   "metadata": {},
   "source": [
    "## 특정 열에서 문자 포함되는 행 몇개인지 찾기"
   ]
  },
  {
   "cell_type": "code",
   "execution_count": 47,
   "metadata": {
    "ExecuteTime": {
     "end_time": "2020-08-06T11:21:43.427453Z",
     "start_time": "2020-08-06T11:21:43.418719Z"
    }
   },
   "outputs": [
    {
     "data": {
      "text/plain": [
       "array(['0-9g/day', '10-19', '20-29', '30+'], dtype=object)"
      ]
     },
     "execution_count": 47,
     "metadata": {},
     "output_type": "execute_result"
    }
   ],
   "source": [
    "df.tobgp.unique()"
   ]
  },
  {
   "cell_type": "code",
   "execution_count": 48,
   "metadata": {
    "ExecuteTime": {
     "end_time": "2020-08-06T11:21:43.794512Z",
     "start_time": "2020-08-06T11:21:43.785727Z"
    }
   },
   "outputs": [
    {
     "data": {
      "text/plain": [
       "88"
      ]
     },
     "execution_count": 48,
     "metadata": {},
     "output_type": "execute_result"
    }
   ],
   "source": [
    "len(df.tobgp.str.contains(r'(day)'))"
   ]
  }
 ],
 "metadata": {
  "kernelspec": {
   "display_name": "Python 3",
   "language": "python",
   "name": "python3"
  },
  "language_info": {
   "codemirror_mode": {
    "name": "ipython",
    "version": 3
   },
   "file_extension": ".py",
   "mimetype": "text/x-python",
   "name": "python",
   "nbconvert_exporter": "python",
   "pygments_lexer": "ipython3",
   "version": "3.7.4"
  },
  "toc": {
   "base_numbering": 1,
   "nav_menu": {},
   "number_sections": true,
   "sideBar": true,
   "skip_h1_title": false,
   "title_cell": "Table of Contents",
   "title_sidebar": "Contents",
   "toc_cell": false,
   "toc_position": {},
   "toc_section_display": true,
   "toc_window_display": false
  }
 },
 "nbformat": 4,
 "nbformat_minor": 4
}
