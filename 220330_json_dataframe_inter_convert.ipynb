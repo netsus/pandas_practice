{
 "cells": [
  {
   "cell_type": "code",
   "execution_count": 43,
   "id": "42faeef8",
   "metadata": {
    "ExecuteTime": {
     "end_time": "2022-03-29T16:01:13.329744Z",
     "start_time": "2022-03-29T16:01:13.309832Z"
    }
   },
   "outputs": [],
   "source": [
    "import pandas as pd\n",
    "import json\n",
    "# test.json 내용: [{\"name\":\"Jack\",\"age\":26},{\"name\":\"Ace\",\"age\":87}]\n",
    "\n",
    "# JSON 읽어서 데이터프레임으로 만들기\n",
    "## json 라이브러리 이용\n",
    "with open('test.json') as f:\n",
    "    js = json.loads(f.read())\n",
    "df = pd.DataFrame(js)\n",
    "## pd.read_json 이용\n",
    "df = pd.read_json('test.json')\n",
    "\n",
    "# 데이터프레임을 JSON으로 쓰기\n",
    "## orient\n",
    "df.to_json() # default : orient='columns'\n",
    "# Output : '{\"name\":{\"0\":\"Jack\",\"1\":\"Ace\"},\"age\":{\"0\":26,\"1\":87}}'\n",
    "df.to_json(orient='records')\n",
    "# Output : '[{\"name\":\"Jack\",\"age\":26},{\"name\":\"Ace\",\"age\":87}]'\n",
    "df.to_json(orient='index')\n",
    "# Output : '{\"0\":{\"name\":\"Jack\",\"age\":26},\"1\":{\"name\":\"Ace\",\"age\":87}}'\n",
    "\n",
    "## json으로 쓰기\n",
    "df.to_json('write.json',orient='index')\n",
    "## -> pd.read_json()으로 json으로 읽으면 orient를 자동으로 인식해서 읽습니다."
   ]
  },
  {
   "cell_type": "code",
   "execution_count": 35,
   "id": "414106db",
   "metadata": {
    "ExecuteTime": {
     "end_time": "2022-03-29T15:14:38.380868Z",
     "start_time": "2022-03-29T15:14:38.373584Z"
    }
   },
   "outputs": [],
   "source": [
    "import pandas as pd\n",
    "import json\n",
    "# test.json 내용: [{\"name\":\"Jack\",\"age\":26},{\"name\":\"Ace\",\"age\":87}]"
   ]
  },
  {
   "cell_type": "markdown",
   "id": "eb784634",
   "metadata": {},
   "source": [
    "# JSON 읽어서 데이터프레임으로 만들기"
   ]
  },
  {
   "cell_type": "markdown",
   "id": "85b0094d",
   "metadata": {},
   "source": [
    "## json 라이브러리 이용"
   ]
  },
  {
   "cell_type": "code",
   "execution_count": 50,
   "id": "459394ad",
   "metadata": {
    "ExecuteTime": {
     "end_time": "2022-03-29T16:12:13.179979Z",
     "start_time": "2022-03-29T16:12:13.172484Z"
    }
   },
   "outputs": [
    {
     "name": "stdout",
     "output_type": "stream",
     "text": [
      "[{\"name\":\"Jack\",\"age\":26},{\"name\":\"Ace\",\"age\":87}]\n"
     ]
    }
   ],
   "source": [
    "with open('test.json') as f:\n",
    "    print(f.read())"
   ]
  },
  {
   "cell_type": "code",
   "execution_count": 48,
   "id": "8ef796dd",
   "metadata": {
    "ExecuteTime": {
     "end_time": "2022-03-29T16:09:53.884458Z",
     "start_time": "2022-03-29T16:09:53.861331Z"
    }
   },
   "outputs": [
    {
     "data": {
      "text/html": [
       "<div>\n",
       "<style scoped>\n",
       "    .dataframe tbody tr th:only-of-type {\n",
       "        vertical-align: middle;\n",
       "    }\n",
       "\n",
       "    .dataframe tbody tr th {\n",
       "        vertical-align: top;\n",
       "    }\n",
       "\n",
       "    .dataframe thead th {\n",
       "        text-align: right;\n",
       "    }\n",
       "</style>\n",
       "<table border=\"1\" class=\"dataframe\">\n",
       "  <thead>\n",
       "    <tr style=\"text-align: right;\">\n",
       "      <th></th>\n",
       "      <th>name</th>\n",
       "      <th>age</th>\n",
       "    </tr>\n",
       "  </thead>\n",
       "  <tbody>\n",
       "    <tr>\n",
       "      <th>0</th>\n",
       "      <td>Jack</td>\n",
       "      <td>26</td>\n",
       "    </tr>\n",
       "    <tr>\n",
       "      <th>1</th>\n",
       "      <td>Ace</td>\n",
       "      <td>87</td>\n",
       "    </tr>\n",
       "  </tbody>\n",
       "</table>\n",
       "</div>"
      ],
      "text/plain": [
       "   name  age\n",
       "0  Jack   26\n",
       "1   Ace   87"
      ]
     },
     "metadata": {},
     "output_type": "display_data"
    }
   ],
   "source": [
    "with open('test.json') as f:\n",
    "    js = json.loads(f.read())\n",
    "df = pd.DataFrame(js)\n",
    "display(df)"
   ]
  },
  {
   "cell_type": "markdown",
   "id": "924c43cd",
   "metadata": {},
   "source": [
    "## pd.read_json 이용"
   ]
  },
  {
   "cell_type": "code",
   "execution_count": 51,
   "id": "7e31f03b",
   "metadata": {
    "ExecuteTime": {
     "end_time": "2022-03-29T16:15:30.048775Z",
     "start_time": "2022-03-29T16:15:30.027296Z"
    }
   },
   "outputs": [
    {
     "data": {
      "text/html": [
       "<div>\n",
       "<style scoped>\n",
       "    .dataframe tbody tr th:only-of-type {\n",
       "        vertical-align: middle;\n",
       "    }\n",
       "\n",
       "    .dataframe tbody tr th {\n",
       "        vertical-align: top;\n",
       "    }\n",
       "\n",
       "    .dataframe thead th {\n",
       "        text-align: right;\n",
       "    }\n",
       "</style>\n",
       "<table border=\"1\" class=\"dataframe\">\n",
       "  <thead>\n",
       "    <tr style=\"text-align: right;\">\n",
       "      <th></th>\n",
       "      <th>name</th>\n",
       "      <th>age</th>\n",
       "    </tr>\n",
       "  </thead>\n",
       "  <tbody>\n",
       "    <tr>\n",
       "      <th>0</th>\n",
       "      <td>Jack</td>\n",
       "      <td>26</td>\n",
       "    </tr>\n",
       "    <tr>\n",
       "      <th>1</th>\n",
       "      <td>Ace</td>\n",
       "      <td>87</td>\n",
       "    </tr>\n",
       "  </tbody>\n",
       "</table>\n",
       "</div>"
      ],
      "text/plain": [
       "   name  age\n",
       "0  Jack   26\n",
       "1   Ace   87"
      ]
     },
     "metadata": {},
     "output_type": "display_data"
    }
   ],
   "source": [
    "df = pd.read_json('test.json')\n",
    "display(df)"
   ]
  },
  {
   "cell_type": "markdown",
   "id": "19085945",
   "metadata": {},
   "source": [
    "# 데이터프레임을 JSON으로 쓰기"
   ]
  },
  {
   "cell_type": "markdown",
   "id": "4a0f6724",
   "metadata": {},
   "source": [
    "## orient"
   ]
  },
  {
   "cell_type": "code",
   "execution_count": 55,
   "id": "64830b2a",
   "metadata": {
    "ExecuteTime": {
     "end_time": "2022-03-29T16:23:01.849409Z",
     "start_time": "2022-03-29T16:23:01.843580Z"
    }
   },
   "outputs": [
    {
     "data": {
      "text/plain": [
       "'{\"name\":{\"0\":\"Jack\",\"1\":\"Ace\"},\"age\":{\"0\":26,\"1\":87}}'"
      ]
     },
     "execution_count": 55,
     "metadata": {},
     "output_type": "execute_result"
    }
   ],
   "source": [
    "df.to_json() # default : orient='columns'"
   ]
  },
  {
   "cell_type": "code",
   "execution_count": 40,
   "id": "62d97508",
   "metadata": {
    "ExecuteTime": {
     "end_time": "2022-03-29T15:56:46.052623Z",
     "start_time": "2022-03-29T15:56:46.043081Z"
    }
   },
   "outputs": [
    {
     "data": {
      "text/plain": [
       "'[{\"name\":\"Jack\",\"age\":26},{\"name\":\"Ace\",\"age\":87}]'"
      ]
     },
     "execution_count": 40,
     "metadata": {},
     "output_type": "execute_result"
    }
   ],
   "source": [
    "df.to_json(orient='records')\n",
    "[{\"name\":\"Jack\",\"age\":26},{\"name\":\"Ace\",\"age\":87}]"
   ]
  },
  {
   "cell_type": "code",
   "execution_count": 53,
   "id": "9ffe5b26",
   "metadata": {
    "ExecuteTime": {
     "end_time": "2022-03-29T16:20:38.735103Z",
     "start_time": "2022-03-29T16:20:38.721500Z"
    }
   },
   "outputs": [
    {
     "data": {
      "text/plain": [
       "'{\"columns\":[\"name\",\"age\"],\"index\":[0,1],\"data\":[[\"Jack\",26],[\"Ace\",87]]}'"
      ]
     },
     "execution_count": 53,
     "metadata": {},
     "output_type": "execute_result"
    }
   ],
   "source": [
    "df.to_json(orient='split')"
   ]
  },
  {
   "cell_type": "code",
   "execution_count": 54,
   "id": "0993c720",
   "metadata": {
    "ExecuteTime": {
     "end_time": "2022-03-29T16:20:45.861770Z",
     "start_time": "2022-03-29T16:20:45.847862Z"
    }
   },
   "outputs": [
    {
     "data": {
      "text/plain": [
       "'[[\"Jack\",26],[\"Ace\",87]]'"
      ]
     },
     "execution_count": 54,
     "metadata": {},
     "output_type": "execute_result"
    }
   ],
   "source": [
    "df.to_json(orient='values')"
   ]
  },
  {
   "cell_type": "code",
   "execution_count": 42,
   "id": "168afd3d",
   "metadata": {
    "ExecuteTime": {
     "end_time": "2022-03-29T15:56:48.627803Z",
     "start_time": "2022-03-29T15:56:48.617844Z"
    }
   },
   "outputs": [
    {
     "data": {
      "text/plain": [
       "'{\"0\":{\"name\":\"Jack\",\"age\":26},\"1\":{\"name\":\"Ace\",\"age\":87}}'"
      ]
     },
     "execution_count": 42,
     "metadata": {},
     "output_type": "execute_result"
    }
   ],
   "source": [
    "df.to_json(orient='index')"
   ]
  },
  {
   "cell_type": "markdown",
   "id": "91b0b2de",
   "metadata": {},
   "source": [
    "## json으로 쓰기"
   ]
  },
  {
   "cell_type": "code",
   "execution_count": 19,
   "id": "4e0f1b5b",
   "metadata": {
    "ExecuteTime": {
     "end_time": "2022-03-29T15:03:22.211639Z",
     "start_time": "2022-03-29T15:03:22.203169Z"
    }
   },
   "outputs": [],
   "source": [
    "df.to_json('write.json',orient='records')"
   ]
  }
 ],
 "metadata": {
  "kernelspec": {
   "display_name": "Python 3",
   "language": "python",
   "name": "python3"
  },
  "language_info": {
   "codemirror_mode": {
    "name": "ipython",
    "version": 3
   },
   "file_extension": ".py",
   "mimetype": "text/x-python",
   "name": "python",
   "nbconvert_exporter": "python",
   "pygments_lexer": "ipython3",
   "version": "3.8.12"
  },
  "toc": {
   "base_numbering": 1,
   "nav_menu": {},
   "number_sections": true,
   "sideBar": true,
   "skip_h1_title": false,
   "title_cell": "Table of Contents",
   "title_sidebar": "Contents",
   "toc_cell": false,
   "toc_position": {},
   "toc_section_display": true,
   "toc_window_display": false
  }
 },
 "nbformat": 4,
 "nbformat_minor": 5
}
